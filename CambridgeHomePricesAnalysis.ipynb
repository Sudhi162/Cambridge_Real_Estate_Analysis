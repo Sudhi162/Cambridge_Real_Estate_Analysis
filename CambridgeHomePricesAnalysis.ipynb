{
  "nbformat": 4,
  "nbformat_minor": 0,
  "metadata": {
    "colab": {
      "name": "CambridgeHomePricesAnalysis.ipynb",
      "provenance": [],
      "collapsed_sections": [],
      "authorship_tag": "ABX9TyPyzSG+cPHP+r0ZsSij6NVe",
      "include_colab_link": true
    },
    "kernelspec": {
      "name": "python3",
      "display_name": "Python 3"
    },
    "language_info": {
      "name": "python"
    }
  },
  "cells": [
    {
      "cell_type": "markdown",
      "metadata": {
        "id": "view-in-github",
        "colab_type": "text"
      },
      "source": [
        "<a href=\"https://colab.research.google.com/github/Sudhi162/Cambridge_Real_Estate_Analysis/blob/main/CambridgeHomePricesAnalysis.ipynb\" target=\"_parent\"><img src=\"https://colab.research.google.com/assets/colab-badge.svg\" alt=\"Open In Colab\"/></a>"
      ]
    },
    {
      "cell_type": "markdown",
      "metadata": {
        "id": "VOktRBH3DQnC"
      },
      "source": [
        "# **Cambridge Real Estate Analysis**"
      ]
    },
    {
      "cell_type": "markdown",
      "metadata": {
        "id": "WZgjcjE3DElw"
      },
      "source": [
        "Cambridge is a centre of innovation in Greated boston area. Many Enterpreuners have made this are home to their successfull businesses and Technology companies \n",
        "and start ups are thriving in this area. Partly because of the availability of high skilled labor and aspiring new grads entering work force in greater boston area. \n",
        "Cambridge is also home to thousands of families living in this neighborhood for decades and centuries. \n",
        "\n",
        "\n",
        "This project aims to analyse the Real estate in Cambridge MA and answer below questions - \n",
        "1. How does the Property Value distribution look like in Cambridge for different property types. \n",
        "2. What was the sales volume in this area in last 10 years for different property types. \n",
        "3. Distribution of gap between sale price and assessed value for different property types in last 10 years sales.\n",
        "4. Develop and evaluate a Machine learning model to predict future property sale prices in cambridge area."
      ]
    },
    {
      "cell_type": "markdown",
      "metadata": {
        "id": "62_930lNDqCx"
      },
      "source": [
        "# Importing the Libraries"
      ]
    },
    {
      "cell_type": "code",
      "metadata": {
        "id": "QKX1cKIECn5A"
      },
      "source": [
        "import numpy as np\n",
        "import matplotlib.pyplot as plt\n",
        "import pandas as pd\n",
        "import seaborn as sns\n",
        "from sklearn.linear_model import LinearRegression\n",
        "from sklearn.model_selection import train_test_split\n",
        "from sklearn.metrics import r2_score, mean_squared_error"
      ],
      "execution_count": 1,
      "outputs": []
    },
    {
      "cell_type": "markdown",
      "metadata": {
        "id": "9DG2TUTrEAcJ"
      },
      "source": [
        "# Importing the dataset"
      ]
    },
    {
      "cell_type": "code",
      "metadata": {
        "id": "eKzzOBqCEIY6"
      },
      "source": [
        "dataset = pd.read_csv('Cambridge_Property_Database_FY2016-FY2021.csv')"
      ],
      "execution_count": 2,
      "outputs": []
    },
    {
      "cell_type": "markdown",
      "metadata": {
        "id": "KKTTQizVGzhR"
      },
      "source": [
        "## 1. How does the Property Value distribution look like in Cambridge for different property types?"
      ]
    },
    {
      "cell_type": "markdown",
      "metadata": {
        "id": "52wFRJYQnomj"
      },
      "source": [
        "## Distribution of accessed property values for different types of properties"
      ]
    },
    {
      "cell_type": "code",
      "metadata": {
        "colab": {
          "base_uri": "https://localhost:8080/",
          "height": 311
        },
        "id": "jAzGrRaWHGL4",
        "outputId": "17e7728a-d1b2-4323-a85d-c1705a792157"
      },
      "source": [
        "# Create a subset of the Raw Data set to calculate the mean, median and standard deviations of assessed value based on different property types\n",
        "\n",
        "ValueDistPropertyTypeall = dataset[['PropertyType','AssessedValue']]\n",
        "ValueDistPropertyType = ValueDistPropertyTypeall[ValueDistPropertyTypeall['AssessedValue'] != 0]\n",
        "ValueDistPropertyType_pivots = ValueDistPropertyType.pivot_table(index='PropertyType', values= 'AssessedValue',aggfunc=[np.max,np.min,np.mean,np.median,np.std])\n",
        "ValueDistPropertyType_pivots.round(2)\n",
        "cm = sns.light_palette(\"green\", as_cmap=True)\n",
        "ValueDistPropertyType_pivots_style=ValueDistPropertyType_pivots.style.background_gradient(cmap=cm)\n",
        "ValueDistPropertyType_pivots_style.format('${:,.2f}')"
      ],
      "execution_count": 3,
      "outputs": [
        {
          "output_type": "execute_result",
          "data": {
            "text/html": [
              "<style  type=\"text/css\" >\n",
              "#T_f6b0da06_f3e1_11eb_8e18_0242ac1c0002row0_col0{\n",
              "            background-color:  #c9e3c9;\n",
              "            color:  #000000;\n",
              "        }#T_f6b0da06_f3e1_11eb_8e18_0242ac1c0002row0_col1{\n",
              "            background-color:  #badbba;\n",
              "            color:  #000000;\n",
              "        }#T_f6b0da06_f3e1_11eb_8e18_0242ac1c0002row0_col2,#T_f6b0da06_f3e1_11eb_8e18_0242ac1c0002row11_col4{\n",
              "            background-color:  #e5f0e5;\n",
              "            color:  #000000;\n",
              "        }#T_f6b0da06_f3e1_11eb_8e18_0242ac1c0002row0_col3,#T_f6b0da06_f3e1_11eb_8e18_0242ac1c0002row1_col3{\n",
              "            background-color:  #d7e9d7;\n",
              "            color:  #000000;\n",
              "        }#T_f6b0da06_f3e1_11eb_8e18_0242ac1c0002row0_col4,#T_f6b0da06_f3e1_11eb_8e18_0242ac1c0002row9_col1{\n",
              "            background-color:  #e2efe2;\n",
              "            color:  #000000;\n",
              "        }#T_f6b0da06_f3e1_11eb_8e18_0242ac1c0002row1_col0{\n",
              "            background-color:  #99cb99;\n",
              "            color:  #000000;\n",
              "        }#T_f6b0da06_f3e1_11eb_8e18_0242ac1c0002row1_col1,#T_f6b0da06_f3e1_11eb_8e18_0242ac1c0002row3_col2,#T_f6b0da06_f3e1_11eb_8e18_0242ac1c0002row3_col4,#T_f6b0da06_f3e1_11eb_8e18_0242ac1c0002row5_col2,#T_f6b0da06_f3e1_11eb_8e18_0242ac1c0002row5_col4,#T_f6b0da06_f3e1_11eb_8e18_0242ac1c0002row7_col1,#T_f6b0da06_f3e1_11eb_8e18_0242ac1c0002row7_col2,#T_f6b0da06_f3e1_11eb_8e18_0242ac1c0002row7_col3,#T_f6b0da06_f3e1_11eb_8e18_0242ac1c0002row8_col0,#T_f6b0da06_f3e1_11eb_8e18_0242ac1c0002row8_col4,#T_f6b0da06_f3e1_11eb_8e18_0242ac1c0002row9_col3,#T_f6b0da06_f3e1_11eb_8e18_0242ac1c0002row11_col1{\n",
              "            background-color:  #ebf3eb;\n",
              "            color:  #000000;\n",
              "        }#T_f6b0da06_f3e1_11eb_8e18_0242ac1c0002row1_col2,#T_f6b0da06_f3e1_11eb_8e18_0242ac1c0002row7_col0{\n",
              "            background-color:  #daebda;\n",
              "            color:  #000000;\n",
              "        }#T_f6b0da06_f3e1_11eb_8e18_0242ac1c0002row1_col4{\n",
              "            background-color:  #d3e7d3;\n",
              "            color:  #000000;\n",
              "        }#T_f6b0da06_f3e1_11eb_8e18_0242ac1c0002row2_col0{\n",
              "            background-color:  #e7f1e7;\n",
              "            color:  #000000;\n",
              "        }#T_f6b0da06_f3e1_11eb_8e18_0242ac1c0002row2_col1,#T_f6b0da06_f3e1_11eb_8e18_0242ac1c0002row2_col3{\n",
              "            background-color:  #d9ead9;\n",
              "            color:  #000000;\n",
              "        }#T_f6b0da06_f3e1_11eb_8e18_0242ac1c0002row2_col2{\n",
              "            background-color:  #e8f2e8;\n",
              "            color:  #000000;\n",
              "        }#T_f6b0da06_f3e1_11eb_8e18_0242ac1c0002row2_col4,#T_f6b0da06_f3e1_11eb_8e18_0242ac1c0002row7_col4,#T_f6b0da06_f3e1_11eb_8e18_0242ac1c0002row11_col2{\n",
              "            background-color:  #e9f2e9;\n",
              "            color:  #000000;\n",
              "        }#T_f6b0da06_f3e1_11eb_8e18_0242ac1c0002row3_col0,#T_f6b0da06_f3e1_11eb_8e18_0242ac1c0002row5_col1{\n",
              "            background-color:  #cfe5cf;\n",
              "            color:  #000000;\n",
              "        }#T_f6b0da06_f3e1_11eb_8e18_0242ac1c0002row3_col1,#T_f6b0da06_f3e1_11eb_8e18_0242ac1c0002row8_col2,#T_f6b0da06_f3e1_11eb_8e18_0242ac1c0002row10_col1{\n",
              "            background-color:  #eaf2ea;\n",
              "            color:  #000000;\n",
              "        }#T_f6b0da06_f3e1_11eb_8e18_0242ac1c0002row3_col3,#T_f6b0da06_f3e1_11eb_8e18_0242ac1c0002row11_col3{\n",
              "            background-color:  #e6f1e6;\n",
              "            color:  #000000;\n",
              "        }#T_f6b0da06_f3e1_11eb_8e18_0242ac1c0002row4_col0,#T_f6b0da06_f3e1_11eb_8e18_0242ac1c0002row4_col2,#T_f6b0da06_f3e1_11eb_8e18_0242ac1c0002row4_col3,#T_f6b0da06_f3e1_11eb_8e18_0242ac1c0002row4_col4,#T_f6b0da06_f3e1_11eb_8e18_0242ac1c0002row6_col1{\n",
              "            background-color:  #008000;\n",
              "            color:  #f1f1f1;\n",
              "        }#T_f6b0da06_f3e1_11eb_8e18_0242ac1c0002row4_col1,#T_f6b0da06_f3e1_11eb_8e18_0242ac1c0002row9_col0,#T_f6b0da06_f3e1_11eb_8e18_0242ac1c0002row9_col4{\n",
              "            background-color:  #e3efe3;\n",
              "            color:  #000000;\n",
              "        }#T_f6b0da06_f3e1_11eb_8e18_0242ac1c0002row5_col0,#T_f6b0da06_f3e1_11eb_8e18_0242ac1c0002row10_col3{\n",
              "            background-color:  #d4e8d4;\n",
              "            color:  #000000;\n",
              "        }#T_f6b0da06_f3e1_11eb_8e18_0242ac1c0002row5_col3{\n",
              "            background-color:  #e0eee0;\n",
              "            color:  #000000;\n",
              "        }#T_f6b0da06_f3e1_11eb_8e18_0242ac1c0002row6_col0{\n",
              "            background-color:  #d1e6d1;\n",
              "            color:  #000000;\n",
              "        }#T_f6b0da06_f3e1_11eb_8e18_0242ac1c0002row6_col2{\n",
              "            background-color:  #d8ead8;\n",
              "            color:  #000000;\n",
              "        }#T_f6b0da06_f3e1_11eb_8e18_0242ac1c0002row6_col3{\n",
              "            background-color:  #abd4ab;\n",
              "            color:  #000000;\n",
              "        }#T_f6b0da06_f3e1_11eb_8e18_0242ac1c0002row6_col4{\n",
              "            background-color:  #d6e9d6;\n",
              "            color:  #000000;\n",
              "        }#T_f6b0da06_f3e1_11eb_8e18_0242ac1c0002row8_col1{\n",
              "            background-color:  #bbdcbb;\n",
              "            color:  #000000;\n",
              "        }#T_f6b0da06_f3e1_11eb_8e18_0242ac1c0002row8_col3,#T_f6b0da06_f3e1_11eb_8e18_0242ac1c0002row10_col2{\n",
              "            background-color:  #dfeddf;\n",
              "            color:  #000000;\n",
              "        }#T_f6b0da06_f3e1_11eb_8e18_0242ac1c0002row9_col2{\n",
              "            background-color:  #e1eee1;\n",
              "            color:  #000000;\n",
              "        }#T_f6b0da06_f3e1_11eb_8e18_0242ac1c0002row10_col0{\n",
              "            background-color:  #a4d0a4;\n",
              "            color:  #000000;\n",
              "        }#T_f6b0da06_f3e1_11eb_8e18_0242ac1c0002row10_col4{\n",
              "            background-color:  #dcecdc;\n",
              "            color:  #000000;\n",
              "        }#T_f6b0da06_f3e1_11eb_8e18_0242ac1c0002row11_col0{\n",
              "            background-color:  #c4e0c4;\n",
              "            color:  #000000;\n",
              "        }</style><table id=\"T_f6b0da06_f3e1_11eb_8e18_0242ac1c0002\" ><thead>    <tr>        <th class=\"blank level0\" ></th>        <th class=\"col_heading level0 col0\" >amax</th>        <th class=\"col_heading level0 col1\" >amin</th>        <th class=\"col_heading level0 col2\" >mean</th>        <th class=\"col_heading level0 col3\" >median</th>        <th class=\"col_heading level0 col4\" >std</th>    </tr>    <tr>        <th class=\"blank level1\" ></th>        <th class=\"col_heading level1 col0\" >AssessedValue</th>        <th class=\"col_heading level1 col1\" >AssessedValue</th>        <th class=\"col_heading level1 col2\" >AssessedValue</th>        <th class=\"col_heading level1 col3\" >AssessedValue</th>        <th class=\"col_heading level1 col4\" >AssessedValue</th>    </tr>    <tr>        <th class=\"index_name level0\" >PropertyType</th>        <th class=\"blank\" ></th>        <th class=\"blank\" ></th>        <th class=\"blank\" ></th>        <th class=\"blank\" ></th>        <th class=\"blank\" ></th>    </tr></thead><tbody>\n",
              "                <tr>\n",
              "                        <th id=\"T_f6b0da06_f3e1_11eb_8e18_0242ac1c0002level0_row0\" class=\"row_heading level0 row0\" >Apartment Building</th>\n",
              "                        <td id=\"T_f6b0da06_f3e1_11eb_8e18_0242ac1c0002row0_col0\" class=\"data row0 col0\" >$238,069,800.00</td>\n",
              "                        <td id=\"T_f6b0da06_f3e1_11eb_8e18_0242ac1c0002row0_col1\" class=\"data row0 col1\" >$120,000.00</td>\n",
              "                        <td id=\"T_f6b0da06_f3e1_11eb_8e18_0242ac1c0002row0_col2\" class=\"data row0 col2\" >$7,578,745.95</td>\n",
              "                        <td id=\"T_f6b0da06_f3e1_11eb_8e18_0242ac1c0002row0_col3\" class=\"data row0 col3\" >$2,172,400.00</td>\n",
              "                        <td id=\"T_f6b0da06_f3e1_11eb_8e18_0242ac1c0002row0_col4\" class=\"data row0 col4\" >$20,056,022.80</td>\n",
              "            </tr>\n",
              "            <tr>\n",
              "                        <th id=\"T_f6b0da06_f3e1_11eb_8e18_0242ac1c0002level0_row1\" class=\"row_heading level0 row1\" >Business Premise</th>\n",
              "                        <td id=\"T_f6b0da06_f3e1_11eb_8e18_0242ac1c0002row1_col0\" class=\"data row1 col0\" >$568,562,000.00</td>\n",
              "                        <td id=\"T_f6b0da06_f3e1_11eb_8e18_0242ac1c0002row1_col1\" class=\"data row1 col1\" >$300.00</td>\n",
              "                        <td id=\"T_f6b0da06_f3e1_11eb_8e18_0242ac1c0002row1_col2\" class=\"data row1 col2\" >$21,167,765.81</td>\n",
              "                        <td id=\"T_f6b0da06_f3e1_11eb_8e18_0242ac1c0002row1_col3\" class=\"data row1 col3\" >$2,176,950.00</td>\n",
              "                        <td id=\"T_f6b0da06_f3e1_11eb_8e18_0242ac1c0002row1_col4\" class=\"data row1 col4\" >$53,461,305.17</td>\n",
              "            </tr>\n",
              "            <tr>\n",
              "                        <th id=\"T_f6b0da06_f3e1_11eb_8e18_0242ac1c0002level0_row2\" class=\"row_heading level0 row2\" >Church/Religious</th>\n",
              "                        <td id=\"T_f6b0da06_f3e1_11eb_8e18_0242ac1c0002row2_col0\" class=\"data row2 col0\" >$33,792,600.00</td>\n",
              "                        <td id=\"T_f6b0da06_f3e1_11eb_8e18_0242ac1c0002row2_col1\" class=\"data row2 col1\" >$44,700.00</td>\n",
              "                        <td id=\"T_f6b0da06_f3e1_11eb_8e18_0242ac1c0002row2_col2\" class=\"data row2 col2\" >$5,096,612.38</td>\n",
              "                        <td id=\"T_f6b0da06_f3e1_11eb_8e18_0242ac1c0002row2_col3\" class=\"data row2 col3\" >$2,017,800.00</td>\n",
              "                        <td id=\"T_f6b0da06_f3e1_11eb_8e18_0242ac1c0002row2_col4\" class=\"data row2 col4\" >$6,652,210.19</td>\n",
              "            </tr>\n",
              "            <tr>\n",
              "                        <th id=\"T_f6b0da06_f3e1_11eb_8e18_0242ac1c0002level0_row3\" class=\"row_heading level0 row3\" >Condominium</th>\n",
              "                        <td id=\"T_f6b0da06_f3e1_11eb_8e18_0242ac1c0002row3_col0\" class=\"data row3 col0\" >$198,203,900.00</td>\n",
              "                        <td id=\"T_f6b0da06_f3e1_11eb_8e18_0242ac1c0002row3_col1\" class=\"data row3 col1\" >$3,200.00</td>\n",
              "                        <td id=\"T_f6b0da06_f3e1_11eb_8e18_0242ac1c0002row3_col2\" class=\"data row3 col2\" >$735,026.46</td>\n",
              "                        <td id=\"T_f6b0da06_f3e1_11eb_8e18_0242ac1c0002row3_col3\" class=\"data row3 col3\" >$606,700.00</td>\n",
              "                        <td id=\"T_f6b0da06_f3e1_11eb_8e18_0242ac1c0002row3_col4\" class=\"data row3 col4\" >$2,225,444.21</td>\n",
              "            </tr>\n",
              "            <tr>\n",
              "                        <th id=\"T_f6b0da06_f3e1_11eb_8e18_0242ac1c0002level0_row4\" class=\"row_heading level0 row4\" >Educational </th>\n",
              "                        <td id=\"T_f6b0da06_f3e1_11eb_8e18_0242ac1c0002row4_col0\" class=\"data row4 col0\" >$1,615,000,000.00</td>\n",
              "                        <td id=\"T_f6b0da06_f3e1_11eb_8e18_0242ac1c0002row4_col1\" class=\"data row4 col1\" >$19,000.00</td>\n",
              "                        <td id=\"T_f6b0da06_f3e1_11eb_8e18_0242ac1c0002row4_col2\" class=\"data row4 col2\" >$286,690,561.23</td>\n",
              "                        <td id=\"T_f6b0da06_f3e1_11eb_8e18_0242ac1c0002row4_col3\" class=\"data row4 col3\" >$24,776,900.00</td>\n",
              "                        <td id=\"T_f6b0da06_f3e1_11eb_8e18_0242ac1c0002row4_col4\" class=\"data row4 col4\" >$497,326,890.09</td>\n",
              "            </tr>\n",
              "            <tr>\n",
              "                        <th id=\"T_f6b0da06_f3e1_11eb_8e18_0242ac1c0002level0_row5\" class=\"row_heading level0 row5\" >Family Home</th>\n",
              "                        <td id=\"T_f6b0da06_f3e1_11eb_8e18_0242ac1c0002row5_col0\" class=\"data row5 col0\" >$159,838,700.00</td>\n",
              "                        <td id=\"T_f6b0da06_f3e1_11eb_8e18_0242ac1c0002row5_col1\" class=\"data row5 col1\" >$69,000.00</td>\n",
              "                        <td id=\"T_f6b0da06_f3e1_11eb_8e18_0242ac1c0002row5_col2\" class=\"data row5 col2\" >$1,615,626.18</td>\n",
              "                        <td id=\"T_f6b0da06_f3e1_11eb_8e18_0242ac1c0002row5_col3\" class=\"data row5 col3\" >$1,218,800.00</td>\n",
              "                        <td id=\"T_f6b0da06_f3e1_11eb_8e18_0242ac1c0002row5_col4\" class=\"data row5 col4\" >$3,211,264.30</td>\n",
              "            </tr>\n",
              "            <tr>\n",
              "                        <th id=\"T_f6b0da06_f3e1_11eb_8e18_0242ac1c0002level0_row6\" class=\"row_heading level0 row6\" >Hospital</th>\n",
              "                        <td id=\"T_f6b0da06_f3e1_11eb_8e18_0242ac1c0002row6_col0\" class=\"data row6 col0\" >$184,797,600.00</td>\n",
              "                        <td id=\"T_f6b0da06_f3e1_11eb_8e18_0242ac1c0002row6_col1\" class=\"data row6 col1\" >$572,500.00</td>\n",
              "                        <td id=\"T_f6b0da06_f3e1_11eb_8e18_0242ac1c0002row6_col2\" class=\"data row6 col2\" >$24,050,110.20</td>\n",
              "                        <td id=\"T_f6b0da06_f3e1_11eb_8e18_0242ac1c0002row6_col3\" class=\"data row6 col3\" >$6,752,000.00</td>\n",
              "                        <td id=\"T_f6b0da06_f3e1_11eb_8e18_0242ac1c0002row6_col4\" class=\"data row6 col4\" >$45,942,735.97</td>\n",
              "            </tr>\n",
              "            <tr>\n",
              "                        <th id=\"T_f6b0da06_f3e1_11eb_8e18_0242ac1c0002level0_row7\" class=\"row_heading level0 row7\" >Land</th>\n",
              "                        <td id=\"T_f6b0da06_f3e1_11eb_8e18_0242ac1c0002row7_col0\" class=\"data row7 col0\" >$125,271,700.00</td>\n",
              "                        <td id=\"T_f6b0da06_f3e1_11eb_8e18_0242ac1c0002row7_col1\" class=\"data row7 col1\" >$1,000.00</td>\n",
              "                        <td id=\"T_f6b0da06_f3e1_11eb_8e18_0242ac1c0002row7_col2\" class=\"data row7 col2\" >$1,443,188.63</td>\n",
              "                        <td id=\"T_f6b0da06_f3e1_11eb_8e18_0242ac1c0002row7_col3\" class=\"data row7 col3\" >$189,600.00</td>\n",
              "                        <td id=\"T_f6b0da06_f3e1_11eb_8e18_0242ac1c0002row7_col4\" class=\"data row7 col4\" >$6,005,182.77</td>\n",
              "            </tr>\n",
              "            <tr>\n",
              "                        <th id=\"T_f6b0da06_f3e1_11eb_8e18_0242ac1c0002level0_row8\" class=\"row_heading level0 row8\" >Other</th>\n",
              "                        <td id=\"T_f6b0da06_f3e1_11eb_8e18_0242ac1c0002row8_col0\" class=\"data row8 col0\" >$7,523,900.00</td>\n",
              "                        <td id=\"T_f6b0da06_f3e1_11eb_8e18_0242ac1c0002row8_col1\" class=\"data row8 col1\" >$117,900.00</td>\n",
              "                        <td id=\"T_f6b0da06_f3e1_11eb_8e18_0242ac1c0002row8_col2\" class=\"data row8 col2\" >$2,200,761.54</td>\n",
              "                        <td id=\"T_f6b0da06_f3e1_11eb_8e18_0242ac1c0002row8_col3\" class=\"data row8 col3\" >$1,399,500.00</td>\n",
              "                        <td id=\"T_f6b0da06_f3e1_11eb_8e18_0242ac1c0002row8_col4\" class=\"data row8 col4\" >$1,993,608.20</td>\n",
              "            </tr>\n",
              "            <tr>\n",
              "                        <th id=\"T_f6b0da06_f3e1_11eb_8e18_0242ac1c0002level0_row9\" class=\"row_heading level0 row9\" >Parking</th>\n",
              "                        <td id=\"T_f6b0da06_f3e1_11eb_8e18_0242ac1c0002row9_col0\" class=\"data row9 col0\" >$61,235,400.00</td>\n",
              "                        <td id=\"T_f6b0da06_f3e1_11eb_8e18_0242ac1c0002row9_col1\" class=\"data row9 col1\" >$22,000.00</td>\n",
              "                        <td id=\"T_f6b0da06_f3e1_11eb_8e18_0242ac1c0002row9_col2\" class=\"data row9 col2\" >$12,530,371.24</td>\n",
              "                        <td id=\"T_f6b0da06_f3e1_11eb_8e18_0242ac1c0002row9_col3\" class=\"data row9 col3\" >$96,000.00</td>\n",
              "                        <td id=\"T_f6b0da06_f3e1_11eb_8e18_0242ac1c0002row9_col4\" class=\"data row9 col4\" >$18,302,025.52</td>\n",
              "            </tr>\n",
              "            <tr>\n",
              "                        <th id=\"T_f6b0da06_f3e1_11eb_8e18_0242ac1c0002level0_row10\" class=\"row_heading level0 row10\" >Public</th>\n",
              "                        <td id=\"T_f6b0da06_f3e1_11eb_8e18_0242ac1c0002row10_col0\" class=\"data row10 col0\" >$494,945,500.00</td>\n",
              "                        <td id=\"T_f6b0da06_f3e1_11eb_8e18_0242ac1c0002row10_col1\" class=\"data row10 col1\" >$3,600.00</td>\n",
              "                        <td id=\"T_f6b0da06_f3e1_11eb_8e18_0242ac1c0002row10_col2\" class=\"data row10 col2\" >$16,175,852.25</td>\n",
              "                        <td id=\"T_f6b0da06_f3e1_11eb_8e18_0242ac1c0002row10_col3\" class=\"data row10 col3\" >$2,456,950.00</td>\n",
              "                        <td id=\"T_f6b0da06_f3e1_11eb_8e18_0242ac1c0002row10_col4\" class=\"data row10 col4\" >$34,023,426.24</td>\n",
              "            </tr>\n",
              "            <tr>\n",
              "                        <th id=\"T_f6b0da06_f3e1_11eb_8e18_0242ac1c0002level0_row11\" class=\"row_heading level0 row11\" >Vacant</th>\n",
              "                        <td id=\"T_f6b0da06_f3e1_11eb_8e18_0242ac1c0002row11_col0\" class=\"data row11 col0\" >$276,783,700.00</td>\n",
              "                        <td id=\"T_f6b0da06_f3e1_11eb_8e18_0242ac1c0002row11_col1\" class=\"data row11 col1\" >$1,200.00</td>\n",
              "                        <td id=\"T_f6b0da06_f3e1_11eb_8e18_0242ac1c0002row11_col2\" class=\"data row11 col2\" >$3,047,737.47</td>\n",
              "                        <td id=\"T_f6b0da06_f3e1_11eb_8e18_0242ac1c0002row11_col3\" class=\"data row11 col3\" >$607,200.00</td>\n",
              "                        <td id=\"T_f6b0da06_f3e1_11eb_8e18_0242ac1c0002row11_col4\" class=\"data row11 col4\" >$14,070,631.40</td>\n",
              "            </tr>\n",
              "    </tbody></table>"
            ],
            "text/plain": [
              "<pandas.io.formats.style.Styler at 0x7f2237256190>"
            ]
          },
          "metadata": {
            "tags": []
          },
          "execution_count": 3
        }
      ]
    },
    {
      "cell_type": "markdown",
      "metadata": {
        "id": "mJhzqL42oHTB"
      },
      "source": [
        "# Distribution plot for Property Assessed value"
      ]
    },
    {
      "cell_type": "code",
      "metadata": {
        "colab": {
          "base_uri": "https://localhost:8080/",
          "height": 708
        },
        "id": "Sbzna-pKoQz6",
        "outputId": "d11cf5ce-318d-4d8a-8bf4-57f45384ddec"
      },
      "source": [
        "ValueDistPropertyType_pivots.plot(xlabel= 'Property Type', ylabel = 'Assessed Value',use_index = True, kind = 'bar', title='Property Value Dist.',figsize=[10,10]);"
      ],
      "execution_count": 4,
      "outputs": [
        {
          "output_type": "display_data",
          "data": {
            "image/png": "[encoded data removed]",
            "text/plain": [
              "<Figure size 720x720 with 1 Axes>"
            ]
          },
          "metadata": {
            "tags": [],
            "needs_background": "light"
          }
        }
      ]
    },
    {
      "cell_type": "markdown",
      "metadata": {
        "id": "b5X3y_zkVubv"
      },
      "source": [
        "**Observation** - Educational institutions have a high distrubution of assessed property value. The mean for a Business premise was 21MM and for a condominium the mean was 735k USD.Also notably depending on the premium property features sometimes may take to pay upto 2MM USD more than mean price for a condominium in Cambridge area as std for condominiums is 2.2 MM!"
      ]
    },
    {
      "cell_type": "markdown",
      "metadata": {
        "id": "zQ5iptHE5ADC"
      },
      "source": [
        "# 2. What was the sales volume in this area in last 10 years for different property types."
      ]
    },
    {
      "cell_type": "code",
      "metadata": {
        "colab": {
          "base_uri": "https://localhost:8080/",
          "height": 708
        },
        "id": "0th7Dkt443ml",
        "outputId": "0f90fbce-0001-4e72-cf4a-3d586fd928bc"
      },
      "source": [
        "# Create a subset of the raw data to determine the sales volume of different property types in last 10 years\n",
        "\n",
        "SalesDataset = dataset.loc[:,['PID','PropertyType','SalePrice','SaleDate']]\n",
        "SalesDataset.loc[:,'SaleDate'] = pd.to_datetime(SalesDataset.loc[:,'SaleDate'],errors='coerce', format='%m/%d/%Y')\n",
        "SalesDatasetFiltered = SalesDataset.loc[(SalesDataset.loc[:,'SaleDate'] >= '2011-04-01'),:]\n",
        "SalesDatasetAgg = SalesDatasetFiltered.groupby(['PropertyType'])['PID'].count()\n",
        "SalesDatasetAgg.plot(xlabel= 'Property Type', ylabel = 'Sale Volumn',use_index = True, kind = 'bar', title='Property Sales Last 10 years.',figsize=[12,10]);"
      ],
      "execution_count": 5,
      "outputs": [
        {
          "output_type": "display_data",
          "data": {
            "image/png": "[encoded data removed]",
            "text/plain": [
              "<Figure size 864x720 with 1 Axes>"
            ]
          },
          "metadata": {
            "tags": [],
            "needs_background": "light"
          }
        }
      ]
    },
    {
      "cell_type": "markdown",
      "metadata": {
        "id": "zI8ozeNNV5dJ"
      },
      "source": [
        "**Observation** - In the last 10 years condiminum properties have been outselling Family homes and other business premises in Cambridge area."
      ]
    },
    {
      "cell_type": "markdown",
      "metadata": {
        "id": "lF4HAxENDJ2G"
      },
      "source": [
        "# 3. How does the Distribution of price gap between sale price and assessed value look?"
      ]
    },
    {
      "cell_type": "code",
      "metadata": {
        "colab": {
          "base_uri": "https://localhost:8080/",
          "height": 252
        },
        "id": "C0_LhpYeFHGY",
        "outputId": "06f40687-0b58-49ae-e0e3-55631b61b5d8"
      },
      "source": [
        "'''Here a subset of the raw data file is taken for last 10 years and a new column is calculated \n",
        "   to plot the price gap measured between the assessed value and the sale price of the property for different property types'''\n",
        "\n",
        "SalesDataset = dataset.loc[:,['PID','PropertyType','AssessedValue','SalePrice','SaleDate']]\n",
        "SalesDataset.loc[:,'SaleDate'] = pd.to_datetime(SalesDataset.loc[:,'SaleDate'],errors='coerce', format='%m/%d/%Y')\n",
        "SalesDatasetFiltered = SalesDataset.loc[(SalesDataset.loc[:,'SaleDate'] >= '2011-04-01'),:]\n",
        "SalesDatasetRemoveZeroAsdVal = SalesDatasetFiltered.loc[(SalesDatasetFiltered.loc[:,'AssessedValue'] > 0),:]\n",
        "SalesDatasetRemoveZeroSaleVal = SalesDatasetRemoveZeroAsdVal.loc[(SalesDatasetRemoveZeroAsdVal.loc[:,'SalePrice'] > 0),:]\n",
        "SalesDatasetRemoveZeroSaleVal.insert(4,\"PriceGap\",SalesDatasetRemoveZeroSaleVal['SalePrice']-SalesDatasetRemoveZeroSaleVal['AssessedValue'])\n",
        "SalesDatasetRemoveNegPriceGap = SalesDatasetRemoveZeroSaleVal.loc[(SalesDatasetRemoveZeroSaleVal.loc[:,'PriceGap'] > 0),:]\n",
        "SalesDatasetRemoveNegPriceGap_pivots = SalesDatasetRemoveNegPriceGap.pivot_table(index='PropertyType', values= 'PriceGap',aggfunc=[np.max,np.min,np.mean,np.median,np.std])\n",
        "SalesDatasetRemoveNegPriceGap_pivots.round(2)\n",
        "cm = sns.light_palette(\"green\", as_cmap=True)\n",
        "SalesDatasetRemoveNegPriceGap_pivots_style=SalesDatasetRemoveNegPriceGap_pivots.style.background_gradient(cmap=cm)\n",
        "SalesDatasetRemoveNegPriceGap_pivots_style.format('${:,.2f}')"
      ],
      "execution_count": 6,
      "outputs": [
        {
          "output_type": "execute_result",
          "data": {
            "text/html": [
              "<style  type=\"text/css\" >\n",
              "#T_fd813e48_f3e1_11eb_8e18_0242ac1c0002row0_col0,#T_fd813e48_f3e1_11eb_8e18_0242ac1c0002row2_col1{\n",
              "            background-color:  #e4f0e4;\n",
              "            color:  #000000;\n",
              "        }#T_fd813e48_f3e1_11eb_8e18_0242ac1c0002row0_col1,#T_fd813e48_f3e1_11eb_8e18_0242ac1c0002row1_col1,#T_fd813e48_f3e1_11eb_8e18_0242ac1c0002row2_col0,#T_fd813e48_f3e1_11eb_8e18_0242ac1c0002row2_col2,#T_fd813e48_f3e1_11eb_8e18_0242ac1c0002row2_col3,#T_fd813e48_f3e1_11eb_8e18_0242ac1c0002row3_col1,#T_fd813e48_f3e1_11eb_8e18_0242ac1c0002row3_col3,#T_fd813e48_f3e1_11eb_8e18_0242ac1c0002row5_col1,#T_fd813e48_f3e1_11eb_8e18_0242ac1c0002row6_col0,#T_fd813e48_f3e1_11eb_8e18_0242ac1c0002row6_col2,#T_fd813e48_f3e1_11eb_8e18_0242ac1c0002row6_col4,#T_fd813e48_f3e1_11eb_8e18_0242ac1c0002row7_col1,#T_fd813e48_f3e1_11eb_8e18_0242ac1c0002row8_col1,#T_fd813e48_f3e1_11eb_8e18_0242ac1c0002row9_col1{\n",
              "            background-color:  #ebf3eb;\n",
              "            color:  #000000;\n",
              "        }#T_fd813e48_f3e1_11eb_8e18_0242ac1c0002row0_col2{\n",
              "            background-color:  #d5e9d5;\n",
              "            color:  #000000;\n",
              "        }#T_fd813e48_f3e1_11eb_8e18_0242ac1c0002row0_col3{\n",
              "            background-color:  #c7e1c7;\n",
              "            color:  #000000;\n",
              "        }#T_fd813e48_f3e1_11eb_8e18_0242ac1c0002row0_col4,#T_fd813e48_f3e1_11eb_8e18_0242ac1c0002row8_col3{\n",
              "            background-color:  #ddecdd;\n",
              "            color:  #000000;\n",
              "        }#T_fd813e48_f3e1_11eb_8e18_0242ac1c0002row1_col0{\n",
              "            background-color:  #97ca97;\n",
              "            color:  #000000;\n",
              "        }#T_fd813e48_f3e1_11eb_8e18_0242ac1c0002row1_col2{\n",
              "            background-color:  #2f972f;\n",
              "            color:  #000000;\n",
              "        }#T_fd813e48_f3e1_11eb_8e18_0242ac1c0002row1_col3{\n",
              "            background-color:  #7bbc7b;\n",
              "            color:  #000000;\n",
              "        }#T_fd813e48_f3e1_11eb_8e18_0242ac1c0002row1_col4{\n",
              "            background-color:  #188c18;\n",
              "            color:  #000000;\n",
              "        }#T_fd813e48_f3e1_11eb_8e18_0242ac1c0002row2_col4{\n",
              "            background-color:  #000000;\n",
              "            color:  #f1f1f1;\n",
              "        }#T_fd813e48_f3e1_11eb_8e18_0242ac1c0002row3_col0{\n",
              "            background-color:  #90c790;\n",
              "            color:  #000000;\n",
              "        }#T_fd813e48_f3e1_11eb_8e18_0242ac1c0002row3_col2{\n",
              "            background-color:  #eaf2ea;\n",
              "            color:  #000000;\n",
              "        }#T_fd813e48_f3e1_11eb_8e18_0242ac1c0002row3_col4{\n",
              "            background-color:  #dcecdc;\n",
              "            color:  #000000;\n",
              "        }#T_fd813e48_f3e1_11eb_8e18_0242ac1c0002row4_col0,#T_fd813e48_f3e1_11eb_8e18_0242ac1c0002row5_col3{\n",
              "            background-color:  #e9f2e9;\n",
              "            color:  #000000;\n",
              "        }#T_fd813e48_f3e1_11eb_8e18_0242ac1c0002row4_col1,#T_fd813e48_f3e1_11eb_8e18_0242ac1c0002row4_col3,#T_fd813e48_f3e1_11eb_8e18_0242ac1c0002row5_col0,#T_fd813e48_f3e1_11eb_8e18_0242ac1c0002row7_col2,#T_fd813e48_f3e1_11eb_8e18_0242ac1c0002row7_col4{\n",
              "            background-color:  #008000;\n",
              "            color:  #f1f1f1;\n",
              "        }#T_fd813e48_f3e1_11eb_8e18_0242ac1c0002row4_col2{\n",
              "            background-color:  #c3e0c3;\n",
              "            color:  #000000;\n",
              "        }#T_fd813e48_f3e1_11eb_8e18_0242ac1c0002row4_col4{\n",
              "            background-color:  #dfeddf;\n",
              "            color:  #000000;\n",
              "        }#T_fd813e48_f3e1_11eb_8e18_0242ac1c0002row5_col2{\n",
              "            background-color:  #e3efe3;\n",
              "            color:  #000000;\n",
              "        }#T_fd813e48_f3e1_11eb_8e18_0242ac1c0002row5_col4{\n",
              "            background-color:  #9ece9e;\n",
              "            color:  #000000;\n",
              "        }#T_fd813e48_f3e1_11eb_8e18_0242ac1c0002row6_col1,#T_fd813e48_f3e1_11eb_8e18_0242ac1c0002row6_col3{\n",
              "            background-color:  #e7f1e7;\n",
              "            color:  #000000;\n",
              "        }#T_fd813e48_f3e1_11eb_8e18_0242ac1c0002row7_col0{\n",
              "            background-color:  #8ec58e;\n",
              "            color:  #000000;\n",
              "        }#T_fd813e48_f3e1_11eb_8e18_0242ac1c0002row7_col3{\n",
              "            background-color:  #a7d2a7;\n",
              "            color:  #000000;\n",
              "        }#T_fd813e48_f3e1_11eb_8e18_0242ac1c0002row8_col0{\n",
              "            background-color:  #d6e9d6;\n",
              "            color:  #000000;\n",
              "        }#T_fd813e48_f3e1_11eb_8e18_0242ac1c0002row8_col2{\n",
              "            background-color:  #5dae5d;\n",
              "            color:  #000000;\n",
              "        }#T_fd813e48_f3e1_11eb_8e18_0242ac1c0002row8_col4{\n",
              "            background-color:  #87c287;\n",
              "            color:  #000000;\n",
              "        }#T_fd813e48_f3e1_11eb_8e18_0242ac1c0002row9_col0{\n",
              "            background-color:  #bcdcbc;\n",
              "            color:  #000000;\n",
              "        }#T_fd813e48_f3e1_11eb_8e18_0242ac1c0002row9_col2{\n",
              "            background-color:  #98ca98;\n",
              "            color:  #000000;\n",
              "        }#T_fd813e48_f3e1_11eb_8e18_0242ac1c0002row9_col3{\n",
              "            background-color:  #4ca54c;\n",
              "            color:  #000000;\n",
              "        }#T_fd813e48_f3e1_11eb_8e18_0242ac1c0002row9_col4{\n",
              "            background-color:  #94c994;\n",
              "            color:  #000000;\n",
              "        }</style><table id=\"T_fd813e48_f3e1_11eb_8e18_0242ac1c0002\" ><thead>    <tr>        <th class=\"blank level0\" ></th>        <th class=\"col_heading level0 col0\" >amax</th>        <th class=\"col_heading level0 col1\" >amin</th>        <th class=\"col_heading level0 col2\" >mean</th>        <th class=\"col_heading level0 col3\" >median</th>        <th class=\"col_heading level0 col4\" >std</th>    </tr>    <tr>        <th class=\"blank level1\" ></th>        <th class=\"col_heading level1 col0\" >PriceGap</th>        <th class=\"col_heading level1 col1\" >PriceGap</th>        <th class=\"col_heading level1 col2\" >PriceGap</th>        <th class=\"col_heading level1 col3\" >PriceGap</th>        <th class=\"col_heading level1 col4\" >PriceGap</th>    </tr></thead><tbody>\n",
              "                <tr>\n",
              "                        <th id=\"T_fd813e48_f3e1_11eb_8e18_0242ac1c0002level0_row0\" class=\"row_heading level0 row0\" >Apartment Building</th>\n",
              "                        <td id=\"T_fd813e48_f3e1_11eb_8e18_0242ac1c0002row0_col0\" class=\"data row0 col0\" >$43,572,800.00</td>\n",
              "                        <td id=\"T_fd813e48_f3e1_11eb_8e18_0242ac1c0002row0_col1\" class=\"data row0 col1\" >$200.00</td>\n",
              "                        <td id=\"T_fd813e48_f3e1_11eb_8e18_0242ac1c0002row0_col2\" class=\"data row0 col2\" >$4,677,977.02</td>\n",
              "                        <td id=\"T_fd813e48_f3e1_11eb_8e18_0242ac1c0002row0_col3\" class=\"data row0 col3\" >$1,263,550.00</td>\n",
              "                        <td id=\"T_fd813e48_f3e1_11eb_8e18_0242ac1c0002row0_col4\" class=\"data row0 col4\" >$6,933,385.62</td>\n",
              "            </tr>\n",
              "            <tr>\n",
              "                        <th id=\"T_fd813e48_f3e1_11eb_8e18_0242ac1c0002level0_row1\" class=\"row_heading level0 row1\" >Business Premise</th>\n",
              "                        <td id=\"T_fd813e48_f3e1_11eb_8e18_0242ac1c0002row1_col0\" class=\"data row1 col0\" >$501,070,900.00</td>\n",
              "                        <td id=\"T_fd813e48_f3e1_11eb_8e18_0242ac1c0002row1_col1\" class=\"data row1 col1\" >$2,200.00</td>\n",
              "                        <td id=\"T_fd813e48_f3e1_11eb_8e18_0242ac1c0002row1_col2\" class=\"data row1 col2\" >$40,723,330.90</td>\n",
              "                        <td id=\"T_fd813e48_f3e1_11eb_8e18_0242ac1c0002row1_col3\" class=\"data row1 col3\" >$3,781,300.00</td>\n",
              "                        <td id=\"T_fd813e48_f3e1_11eb_8e18_0242ac1c0002row1_col4\" class=\"data row1 col4\" >$100,980,911.61</td>\n",
              "            </tr>\n",
              "            <tr>\n",
              "                        <th id=\"T_fd813e48_f3e1_11eb_8e18_0242ac1c0002level0_row2\" class=\"row_heading level0 row2\" >Church/Religious</th>\n",
              "                        <td id=\"T_fd813e48_f3e1_11eb_8e18_0242ac1c0002row2_col0\" class=\"data row2 col0\" >$50,900.00</td>\n",
              "                        <td id=\"T_fd813e48_f3e1_11eb_8e18_0242ac1c0002row2_col1\" class=\"data row2 col1\" >$50,900.00</td>\n",
              "                        <td id=\"T_fd813e48_f3e1_11eb_8e18_0242ac1c0002row2_col2\" class=\"data row2 col2\" >$50,900.00</td>\n",
              "                        <td id=\"T_fd813e48_f3e1_11eb_8e18_0242ac1c0002row2_col3\" class=\"data row2 col3\" >$50,900.00</td>\n",
              "                        <td id=\"T_fd813e48_f3e1_11eb_8e18_0242ac1c0002row2_col4\" class=\"data row2 col4\" >$nan</td>\n",
              "            </tr>\n",
              "            <tr>\n",
              "                        <th id=\"T_fd813e48_f3e1_11eb_8e18_0242ac1c0002level0_row3\" class=\"row_heading level0 row3\" >Condominium</th>\n",
              "                        <td id=\"T_fd813e48_f3e1_11eb_8e18_0242ac1c0002row3_col0\" class=\"data row3 col0\" >$539,488,699.00</td>\n",
              "                        <td id=\"T_fd813e48_f3e1_11eb_8e18_0242ac1c0002row3_col1\" class=\"data row3 col1\" >$100.00</td>\n",
              "                        <td id=\"T_fd813e48_f3e1_11eb_8e18_0242ac1c0002row3_col2\" class=\"data row3 col2\" >$303,705.63</td>\n",
              "                        <td id=\"T_fd813e48_f3e1_11eb_8e18_0242ac1c0002row3_col3\" class=\"data row3 col3\" >$52,325.00</td>\n",
              "                        <td id=\"T_fd813e48_f3e1_11eb_8e18_0242ac1c0002row3_col4\" class=\"data row3 col4\" >$7,371,982.77</td>\n",
              "            </tr>\n",
              "            <tr>\n",
              "                        <th id=\"T_fd813e48_f3e1_11eb_8e18_0242ac1c0002level0_row4\" class=\"row_heading level0 row4\" >Educational </th>\n",
              "                        <td id=\"T_fd813e48_f3e1_11eb_8e18_0242ac1c0002row4_col0\" class=\"data row4 col0\" >$15,845,900.00</td>\n",
              "                        <td id=\"T_fd813e48_f3e1_11eb_8e18_0242ac1c0002row4_col1\" class=\"data row4 col1\" >$1,704,325.00</td>\n",
              "                        <td id=\"T_fd813e48_f3e1_11eb_8e18_0242ac1c0002row4_col2\" class=\"data row4 col2\" >$8,622,652.84</td>\n",
              "                        <td id=\"T_fd813e48_f3e1_11eb_8e18_0242ac1c0002row4_col3\" class=\"data row4 col3\" >$7,936,198.00</td>\n",
              "                        <td id=\"T_fd813e48_f3e1_11eb_8e18_0242ac1c0002row4_col4\" class=\"data row4 col4\" >$5,933,071.52</td>\n",
              "            </tr>\n",
              "            <tr>\n",
              "                        <th id=\"T_fd813e48_f3e1_11eb_8e18_0242ac1c0002level0_row5\" class=\"row_heading level0 row5\" >Family Home</th>\n",
              "                        <td id=\"T_fd813e48_f3e1_11eb_8e18_0242ac1c0002row5_col0\" class=\"data row5 col0\" >$1,398,780,200.00</td>\n",
              "                        <td id=\"T_fd813e48_f3e1_11eb_8e18_0242ac1c0002row5_col1\" class=\"data row5 col1\" >$100.00</td>\n",
              "                        <td id=\"T_fd813e48_f3e1_11eb_8e18_0242ac1c0002row5_col2\" class=\"data row5 col2\" >$1,785,578.40</td>\n",
              "                        <td id=\"T_fd813e48_f3e1_11eb_8e18_0242ac1c0002row5_col3\" class=\"data row5 col3\" >$143,000.00</td>\n",
              "                        <td id=\"T_fd813e48_f3e1_11eb_8e18_0242ac1c0002row5_col4\" class=\"data row5 col4\" >$36,727,918.77</td>\n",
              "            </tr>\n",
              "            <tr>\n",
              "                        <th id=\"T_fd813e48_f3e1_11eb_8e18_0242ac1c0002level0_row6\" class=\"row_heading level0 row6\" >Hospital</th>\n",
              "                        <td id=\"T_fd813e48_f3e1_11eb_8e18_0242ac1c0002row6_col0\" class=\"data row6 col0\" >$399,600.00</td>\n",
              "                        <td id=\"T_fd813e48_f3e1_11eb_8e18_0242ac1c0002row6_col1\" class=\"data row6 col1\" >$32,900.00</td>\n",
              "                        <td id=\"T_fd813e48_f3e1_11eb_8e18_0242ac1c0002row6_col2\" class=\"data row6 col2\" >$210,375.00</td>\n",
              "                        <td id=\"T_fd813e48_f3e1_11eb_8e18_0242ac1c0002row6_col3\" class=\"data row6 col3\" >$204,500.00</td>\n",
              "                        <td id=\"T_fd813e48_f3e1_11eb_8e18_0242ac1c0002row6_col4\" class=\"data row6 col4\" >$150,601.34</td>\n",
              "            </tr>\n",
              "            <tr>\n",
              "                        <th id=\"T_fd813e48_f3e1_11eb_8e18_0242ac1c0002level0_row7\" class=\"row_heading level0 row7\" >Land</th>\n",
              "                        <td id=\"T_fd813e48_f3e1_11eb_8e18_0242ac1c0002row7_col0\" class=\"data row7 col0\" >$554,892,900.00</td>\n",
              "                        <td id=\"T_fd813e48_f3e1_11eb_8e18_0242ac1c0002row7_col1\" class=\"data row7 col1\" >$4,400.00</td>\n",
              "                        <td id=\"T_fd813e48_f3e1_11eb_8e18_0242ac1c0002row7_col2\" class=\"data row7 col2\" >$50,859,760.81</td>\n",
              "                        <td id=\"T_fd813e48_f3e1_11eb_8e18_0242ac1c0002row7_col3\" class=\"data row7 col3\" >$2,307,250.00</td>\n",
              "                        <td id=\"T_fd813e48_f3e1_11eb_8e18_0242ac1c0002row7_col4\" class=\"data row7 col4\" >$112,623,584.00</td>\n",
              "            </tr>\n",
              "            <tr>\n",
              "                        <th id=\"T_fd813e48_f3e1_11eb_8e18_0242ac1c0002level0_row8\" class=\"row_heading level0 row8\" >Parking</th>\n",
              "                        <td id=\"T_fd813e48_f3e1_11eb_8e18_0242ac1c0002row8_col0\" class=\"data row8 col0\" >$123,953,600.00</td>\n",
              "                        <td id=\"T_fd813e48_f3e1_11eb_8e18_0242ac1c0002row8_col1\" class=\"data row8 col1\" >$1,000.00</td>\n",
              "                        <td id=\"T_fd813e48_f3e1_11eb_8e18_0242ac1c0002row8_col2\" class=\"data row8 col2\" >$30,632,101.00</td>\n",
              "                        <td id=\"T_fd813e48_f3e1_11eb_8e18_0242ac1c0002row8_col3\" class=\"data row8 col3\" >$528,000.00</td>\n",
              "                        <td id=\"T_fd813e48_f3e1_11eb_8e18_0242ac1c0002row8_col4\" class=\"data row8 col4\" >$48,006,825.38</td>\n",
              "            </tr>\n",
              "            <tr>\n",
              "                        <th id=\"T_fd813e48_f3e1_11eb_8e18_0242ac1c0002level0_row9\" class=\"row_heading level0 row9\" >Public</th>\n",
              "                        <td id=\"T_fd813e48_f3e1_11eb_8e18_0242ac1c0002row9_col0\" class=\"data row9 col0\" >$281,358,869.00</td>\n",
              "                        <td id=\"T_fd813e48_f3e1_11eb_8e18_0242ac1c0002row9_col1\" class=\"data row9 col1\" >$1,500.00</td>\n",
              "                        <td id=\"T_fd813e48_f3e1_11eb_8e18_0242ac1c0002row9_col2\" class=\"data row9 col2\" >$18,104,548.82</td>\n",
              "                        <td id=\"T_fd813e48_f3e1_11eb_8e18_0242ac1c0002row9_col3\" class=\"data row9 col3\" >$5,373,048.00</td>\n",
              "                        <td id=\"T_fd813e48_f3e1_11eb_8e18_0242ac1c0002row9_col4\" class=\"data row9 col4\" >$41,501,118.98</td>\n",
              "            </tr>\n",
              "    </tbody></table>"
            ],
            "text/plain": [
              "<pandas.io.formats.style.Styler at 0x7f2236965b90>"
            ]
          },
          "metadata": {
            "tags": []
          },
          "execution_count": 6
        }
      ]
    },
    {
      "cell_type": "markdown",
      "metadata": {
        "id": "sc_s4CVnOEHU"
      },
      "source": [
        "# Distribution plot for PriceGap Analysis"
      ]
    },
    {
      "cell_type": "code",
      "metadata": {
        "colab": {
          "base_uri": "https://localhost:8080/",
          "height": 708
        },
        "id": "hZeEbC4_OLO6",
        "outputId": "bae2b102-ef6e-493a-cf1d-06e137c45ff3"
      },
      "source": [
        "SalesDatasetRemoveNegPriceGap_pivots.plot(xlabel= 'Property Type', ylabel = 'Assessed Value',use_index = True, kind = 'bar', title='Property Value Dist.',figsize=[10,10]);"
      ],
      "execution_count": 7,
      "outputs": [
        {
          "output_type": "display_data",
          "data": {
            "image/png": "[encoded data removed]",
            "text/plain": [
              "<Figure size 720x720 with 1 Axes>"
            ]
          },
          "metadata": {
            "tags": [],
            "needs_background": "light"
          }
        }
      ]
    },
    {
      "cell_type": "markdown",
      "metadata": {
        "id": "IIBPcIqeXLCc"
      },
      "source": [
        "**Observation** - Family Homes, Business premises, Piece of Land and Educational properties have sold for much more than the last assessed value."
      ]
    },
    {
      "cell_type": "markdown",
      "metadata": {
        "id": "Ve4Bb_DmfRsX"
      },
      "source": [
        "# 4. Develop and evaluate a Machine learning model to predict future property sale prices in cambridge area."
      ]
    },
    {
      "cell_type": "code",
      "metadata": {
        "id": "DVvnq7p5pu0w"
      },
      "source": [
        "def create_dummy_df(df, cat_cols, dummy_na):\n",
        "    '''\n",
        "    INPUT:\n",
        "    df - pandas dataframe with categorical variables you want to dummy\n",
        "    cat_cols - list of strings that are associated with names of the categorical columns\n",
        "    dummy_na - Bool holding whether you want to dummy NA vals of categorical columns or not\n",
        "    \n",
        "    OUTPUT:\n",
        "    df - a new dataframe that has the following characteristics:\n",
        "            1. contains all columns that were not specified as categorical\n",
        "            2. removes all the original columns in cat_cols\n",
        "            3. dummy columns for each of the categorical columns in cat_cols\n",
        "            4. if dummy_na is True - it also contains dummy columns for the NaN values\n",
        "            5. Use a prefix of the column name with an underscore (_) for separating \n",
        "    '''\n",
        "    for col in  cat_cols:\n",
        "        try:\n",
        "            # for each cat add dummy var, drop original column\n",
        "            df = pd.concat([df.drop(col, axis=1), pd.get_dummies(df[col], prefix=col, prefix_sep='_', drop_first=True, dummy_na=dummy_na)], axis=1)\n",
        "        except:\n",
        "            continue\n",
        "    return df"
      ],
      "execution_count": 8,
      "outputs": []
    },
    {
      "cell_type": "code",
      "metadata": {
        "id": "of3XQ8_ifWuc"
      },
      "source": [
        "def train_test_linear_model(dataset, dataset_cols, col_predicted, dummy_na):\n",
        "\n",
        "  '''\n",
        "    INPUT:\n",
        "    dataset - pandas dataframe with categorical variables you want use for train test    \n",
        "    dummy_na - Bool holding whether you want to dummy NA vals of categorical columns or not\n",
        "    \n",
        "    OUTPUT:\n",
        "    lm_model - liner model that can be used to make predictions\n",
        "    test_score\n",
        "    train_score\n",
        "    '''\n",
        "  \n",
        "  df = pd.read_csv(dataset)\n",
        "\n",
        "  #Only use quant variables and drop any rows with missing values\n",
        "  num_vars = df[dataset_cols]\n",
        "\n",
        "  #Drop the rows with missing salaries\n",
        "  ''' Note: here the missing values are dropped from the dataset instead of imputing them . The reason to do so is to avoid imputing values for the value that will be determined by the Linear model. \n",
        "  Hence instead of imputing missing values for the column that will be predicted, this function drops any missing values.\n",
        "  Also , once the model is available and optimised the missing values of sale price can be determined or predicted using the Linear model itself instead of imputing.\n",
        "  '''\n",
        "\n",
        "  drop_sal_df = num_vars.dropna(subset=[col_predicted], axis=0)\n",
        "  cat_df = drop_sal_df.select_dtypes(include=['object'])\n",
        "\n",
        "  cat_cols_lst=cat_df.columns\n",
        "  df_new = create_dummy_df(drop_sal_df, cat_cols_lst, dummy_na=False) #Use your newly created function\n",
        "\n",
        "  fill_mean = lambda col: col.fillna(col.mean())\n",
        "  # Fill the mean\n",
        "  fill_df_new = df_new.apply(fill_mean, axis=0)\n",
        "\n",
        "  #Split into explanatory and response variables\n",
        "  X = fill_df_new.drop(col_predicted, axis=1)\n",
        "  y = fill_df_new[col_predicted]\n",
        "\n",
        "  #Split into train and test\n",
        "  X_train, X_test, y_train, y_test = train_test_split(X, y, test_size = .30, random_state=42) \n",
        "\n",
        "  lm_model = LinearRegression(normalize=True) # Instantiate\n",
        "  lm_model.fit(X_train, y_train) #Fit\n",
        "\n",
        "  #Predict using your model\n",
        "  y_test_preds = lm_model.predict(X_test)\n",
        "  y_train_preds = lm_model.predict(X_train)\n",
        "\n",
        "  #Score using your model\n",
        "  test_score = r2_score(y_test, y_test_preds)\n",
        "  train_score = r2_score(y_train, y_train_preds)\n",
        "\n",
        "  return lm_model, test_score,train_score"
      ],
      "execution_count": 9,
      "outputs": []
    },
    {
      "cell_type": "code",
      "metadata": {
        "colab": {
          "base_uri": "https://localhost:8080/"
        },
        "id": "OCRCIK-ZreS7",
        "outputId": "59823637-b921-466b-d3ae-3202fb534e46"
      },
      "source": [
        "# Train the Linear Model \n",
        "dataset_cols = ['PropertyType', 'LandArea', 'YearOfAssessment', 'BuildingValue', 'LandValue', 'AssessedValue',  'UnfinishedBasementGross', 'FinishedBasementGross', 'SalePrice']\n",
        "col_predicted = 'SalePrice'\n",
        "lm_mdl, test_scr ,train_scr = train_test_linear_model('Cambridge_Property_Database_FY2016-FY2021.csv',dataset_cols,col_predicted,False)\n",
        "\n",
        "#Print training and testing score\n",
        "print(\"The rsquared on the training data was {}.  The rsquared on the test data was {}.\".format(test_scr, train_scr))"
      ],
      "execution_count": 10,
      "outputs": [
        {
          "output_type": "stream",
          "text": [
            "The rsquared on the training data was 0.7728227272923986.  The rsquared on the test data was 0.8168455230295527.\n"
          ],
          "name": "stdout"
        }
      ]
    },
    {
      "cell_type": "markdown",
      "metadata": {
        "id": "ukx_K1iYXg4M"
      },
      "source": [
        "**Observation** - The rsquared on the training data was 0.7728227272923986.  The rsquared on the test data was 0.8168455230295527. "
      ]
    }
  ]
}